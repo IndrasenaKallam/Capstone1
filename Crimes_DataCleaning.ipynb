{
  "nbformat": 4,
  "nbformat_minor": 0,
  "metadata": {
    "colab": {
      "name": "Crimes_DataCleaning.ipynb",
      "provenance": [],
      "collapsed_sections": [],
      "machine_shape": "hm"
    },
    "kernelspec": {
      "display_name": "Python 3",
      "language": "python",
      "name": "python3"
    },
    "language_info": {
      "codemirror_mode": {
        "name": "ipython",
        "version": 3
      },
      "file_extension": ".py",
      "mimetype": "text/x-python",
      "name": "python",
      "nbconvert_exporter": "python",
      "pygments_lexer": "ipython3",
      "version": "3.7.4"
    },
    "toc": {
      "base_numbering": 1,
      "nav_menu": {},
      "number_sections": true,
      "sideBar": true,
      "skip_h1_title": false,
      "title_cell": "Table of Contents",
      "title_sidebar": "Contents",
      "toc_cell": false,
      "toc_position": {},
      "toc_section_display": true,
      "toc_window_display": false
    }
  },
  "cells": [
    {
      "cell_type": "code",
      "metadata": {
        "colab_type": "code",
        "id": "ii6AhTulV-Uw",
        "colab": {}
      },
      "source": [
        "import pandas as pd \n",
        "import numpy as np \n",
        "import os\n",
        "from datetime import datetime\n",
        "import matplotlib.pyplot as plt\n",
        "import seaborn as sns \n",
        "from PIL import Image\n",
        "from wordcloud import WordCloud, STOPWORDS, ImageColorGenerator\n",
        "%matplotlib inline\n",
        "import pickle \n"
      ],
      "execution_count": 0,
      "outputs": []
    },
    {
      "cell_type": "code",
      "metadata": {
        "colab_type": "code",
        "id": "U3QKLDlGWHu0",
        "outputId": "ae82c882-288a-4b64-bc7e-544cd82ab38c",
        "colab": {
          "base_uri": "https://localhost:8080/",
          "height": 460
        }
      },
      "source": [
        "# loading the dataset into a dataframe called df with the index column as 'Date'\n",
        "crimes = pd.read_csv('/content/ChicagoCrimes.csv')\n",
        "# crimes = pd.concat(df, ignore_index = True)\n",
        "crimes.head()\n",
        "\n"
      ],
      "execution_count": 0,
      "outputs": [
        {
          "output_type": "stream",
          "text": [
            "/usr/local/lib/python3.6/dist-packages/IPython/core/interactiveshell.py:2718: DtypeWarning: Columns (21) have mixed types. Specify dtype option on import or set low_memory=False.\n",
            "  interactivity=interactivity, compiler=compiler, result=result)\n"
          ],
          "name": "stderr"
        },
        {
          "output_type": "execute_result",
          "data": {
            "text/html": [
              "<div>\n",
              "<style scoped>\n",
              "    .dataframe tbody tr th:only-of-type {\n",
              "        vertical-align: middle;\n",
              "    }\n",
              "\n",
              "    .dataframe tbody tr th {\n",
              "        vertical-align: top;\n",
              "    }\n",
              "\n",
              "    .dataframe thead th {\n",
              "        text-align: right;\n",
              "    }\n",
              "</style>\n",
              "<table border=\"1\" class=\"dataframe\">\n",
              "  <thead>\n",
              "    <tr style=\"text-align: right;\">\n",
              "      <th></th>\n",
              "      <th>ID</th>\n",
              "      <th>Case Number</th>\n",
              "      <th>Date</th>\n",
              "      <th>Block</th>\n",
              "      <th>IUCR</th>\n",
              "      <th>Primary Type</th>\n",
              "      <th>Description</th>\n",
              "      <th>Location Description</th>\n",
              "      <th>Arrest</th>\n",
              "      <th>Domestic</th>\n",
              "      <th>Beat</th>\n",
              "      <th>District</th>\n",
              "      <th>Ward</th>\n",
              "      <th>Community Area</th>\n",
              "      <th>FBI Code</th>\n",
              "      <th>X Coordinate</th>\n",
              "      <th>Y Coordinate</th>\n",
              "      <th>Year</th>\n",
              "      <th>Updated On</th>\n",
              "      <th>Latitude</th>\n",
              "      <th>Longitude</th>\n",
              "      <th>Location</th>\n",
              "    </tr>\n",
              "  </thead>\n",
              "  <tbody>\n",
              "    <tr>\n",
              "      <th>0</th>\n",
              "      <td>11034701</td>\n",
              "      <td>JA366925</td>\n",
              "      <td>01/01/2001 11:00:00 AM</td>\n",
              "      <td>016XX E 86TH PL</td>\n",
              "      <td>1153</td>\n",
              "      <td>DECEPTIVE PRACTICE</td>\n",
              "      <td>FINANCIAL IDENTITY THEFT OVER $ 300</td>\n",
              "      <td>RESIDENCE</td>\n",
              "      <td>False</td>\n",
              "      <td>False</td>\n",
              "      <td>412</td>\n",
              "      <td>4.0</td>\n",
              "      <td>8.0</td>\n",
              "      <td>45.0</td>\n",
              "      <td>11</td>\n",
              "      <td>NaN</td>\n",
              "      <td>NaN</td>\n",
              "      <td>2001</td>\n",
              "      <td>08/05/2017 03:50:08 PM</td>\n",
              "      <td>NaN</td>\n",
              "      <td>NaN</td>\n",
              "      <td>NaN</td>\n",
              "    </tr>\n",
              "    <tr>\n",
              "      <th>1</th>\n",
              "      <td>11227287</td>\n",
              "      <td>JB147188</td>\n",
              "      <td>10/08/2017 03:00:00 AM</td>\n",
              "      <td>092XX S RACINE AVE</td>\n",
              "      <td>0281</td>\n",
              "      <td>CRIM SEXUAL ASSAULT</td>\n",
              "      <td>NON-AGGRAVATED</td>\n",
              "      <td>RESIDENCE</td>\n",
              "      <td>False</td>\n",
              "      <td>False</td>\n",
              "      <td>2222</td>\n",
              "      <td>22.0</td>\n",
              "      <td>21.0</td>\n",
              "      <td>73.0</td>\n",
              "      <td>02</td>\n",
              "      <td>NaN</td>\n",
              "      <td>NaN</td>\n",
              "      <td>2017</td>\n",
              "      <td>02/11/2018 03:57:41 PM</td>\n",
              "      <td>NaN</td>\n",
              "      <td>NaN</td>\n",
              "      <td>NaN</td>\n",
              "    </tr>\n",
              "    <tr>\n",
              "      <th>2</th>\n",
              "      <td>11227583</td>\n",
              "      <td>JB147595</td>\n",
              "      <td>03/28/2017 02:00:00 PM</td>\n",
              "      <td>026XX W 79TH ST</td>\n",
              "      <td>0620</td>\n",
              "      <td>BURGLARY</td>\n",
              "      <td>UNLAWFUL ENTRY</td>\n",
              "      <td>OTHER</td>\n",
              "      <td>False</td>\n",
              "      <td>False</td>\n",
              "      <td>835</td>\n",
              "      <td>8.0</td>\n",
              "      <td>18.0</td>\n",
              "      <td>70.0</td>\n",
              "      <td>05</td>\n",
              "      <td>NaN</td>\n",
              "      <td>NaN</td>\n",
              "      <td>2017</td>\n",
              "      <td>02/11/2018 03:57:41 PM</td>\n",
              "      <td>NaN</td>\n",
              "      <td>NaN</td>\n",
              "      <td>NaN</td>\n",
              "    </tr>\n",
              "    <tr>\n",
              "      <th>3</th>\n",
              "      <td>11227293</td>\n",
              "      <td>JB147230</td>\n",
              "      <td>09/09/2017 08:17:00 PM</td>\n",
              "      <td>060XX S EBERHART AVE</td>\n",
              "      <td>0810</td>\n",
              "      <td>THEFT</td>\n",
              "      <td>OVER $500</td>\n",
              "      <td>RESIDENCE</td>\n",
              "      <td>False</td>\n",
              "      <td>False</td>\n",
              "      <td>313</td>\n",
              "      <td>3.0</td>\n",
              "      <td>20.0</td>\n",
              "      <td>42.0</td>\n",
              "      <td>06</td>\n",
              "      <td>NaN</td>\n",
              "      <td>NaN</td>\n",
              "      <td>2017</td>\n",
              "      <td>02/11/2018 03:57:41 PM</td>\n",
              "      <td>NaN</td>\n",
              "      <td>NaN</td>\n",
              "      <td>NaN</td>\n",
              "    </tr>\n",
              "    <tr>\n",
              "      <th>4</th>\n",
              "      <td>11227634</td>\n",
              "      <td>JB147599</td>\n",
              "      <td>08/26/2017 10:00:00 AM</td>\n",
              "      <td>001XX W RANDOLPH ST</td>\n",
              "      <td>0281</td>\n",
              "      <td>CRIM SEXUAL ASSAULT</td>\n",
              "      <td>NON-AGGRAVATED</td>\n",
              "      <td>HOTEL/MOTEL</td>\n",
              "      <td>False</td>\n",
              "      <td>False</td>\n",
              "      <td>122</td>\n",
              "      <td>1.0</td>\n",
              "      <td>42.0</td>\n",
              "      <td>32.0</td>\n",
              "      <td>02</td>\n",
              "      <td>NaN</td>\n",
              "      <td>NaN</td>\n",
              "      <td>2017</td>\n",
              "      <td>02/11/2018 03:57:41 PM</td>\n",
              "      <td>NaN</td>\n",
              "      <td>NaN</td>\n",
              "      <td>NaN</td>\n",
              "    </tr>\n",
              "  </tbody>\n",
              "</table>\n",
              "</div>"
            ],
            "text/plain": [
              "         ID Case Number                    Date  ... Latitude Longitude Location\n",
              "0  11034701    JA366925  01/01/2001 11:00:00 AM  ...      NaN       NaN      NaN\n",
              "1  11227287    JB147188  10/08/2017 03:00:00 AM  ...      NaN       NaN      NaN\n",
              "2  11227583    JB147595  03/28/2017 02:00:00 PM  ...      NaN       NaN      NaN\n",
              "3  11227293    JB147230  09/09/2017 08:17:00 PM  ...      NaN       NaN      NaN\n",
              "4  11227634    JB147599  08/26/2017 10:00:00 AM  ...      NaN       NaN      NaN\n",
              "\n",
              "[5 rows x 22 columns]"
            ]
          },
          "metadata": {
            "tags": []
          },
          "execution_count": 10
        }
      ]
    },
    {
      "cell_type": "code",
      "metadata": {
        "id": "3WoBXM3sVovs",
        "colab_type": "code",
        "outputId": "6a93c5a6-48e4-4db3-e83d-b3dcc654336f",
        "colab": {
          "base_uri": "https://localhost:8080/",
          "height": 35
        }
      },
      "source": [
        "crimes.index = pd.to_datetime(crimes.Date,format ='%m/%d/%Y %I:%M:%S %p')\n",
        "type(crimes.index)"
      ],
      "execution_count": 0,
      "outputs": [
        {
          "output_type": "execute_result",
          "data": {
            "text/plain": [
              "pandas.core.indexes.datetimes.DatetimeIndex"
            ]
          },
          "metadata": {
            "tags": []
          },
          "execution_count": 11
        }
      ]
    },
    {
      "cell_type": "code",
      "metadata": {
        "id": "ztJKsp5vVIbt",
        "colab_type": "code",
        "outputId": "ffbe516c-61ae-46a9-bbdf-86b6ced4f3a7",
        "colab": {
          "base_uri": "https://localhost:8080/",
          "height": 35
        }
      },
      "source": [
        "# Shape of the data frames indicates that they are around 7 million rows and 21 columns after excluding 'Date' column\n",
        "crimes.shape"
      ],
      "execution_count": 0,
      "outputs": [
        {
          "output_type": "execute_result",
          "data": {
            "text/plain": [
              "(7069282, 22)"
            ]
          },
          "metadata": {
            "tags": []
          },
          "execution_count": 12
        }
      ]
    },
    {
      "cell_type": "code",
      "metadata": {
        "colab_type": "code",
        "id": "WKUJGqwnXaZ9",
        "outputId": "48aab036-8472-4f3f-e926-78e9ca43eb04",
        "colab": {
          "base_uri": "https://localhost:8080/",
          "height": 124
        }
      },
      "source": [
        "# output the names of all the columns in that data frame\n",
        "crimes.columns"
      ],
      "execution_count": 0,
      "outputs": [
        {
          "output_type": "execute_result",
          "data": {
            "text/plain": [
              "Index(['ID', 'Case Number', 'Date', 'Block', 'IUCR', 'Primary Type',\n",
              "       'Description', 'Location Description', 'Arrest', 'Domestic', 'Beat',\n",
              "       'District', 'Ward', 'Community Area', 'FBI Code', 'X Coordinate',\n",
              "       'Y Coordinate', 'Year', 'Updated On', 'Latitude', 'Longitude',\n",
              "       'Location'],\n",
              "      dtype='object')"
            ]
          },
          "metadata": {
            "tags": []
          },
          "execution_count": 13
        }
      ]
    },
    {
      "cell_type": "code",
      "metadata": {
        "colab_type": "code",
        "id": "3OwadN9BYw-O",
        "outputId": "c06df37a-967d-476c-d6dc-cbf73d056717",
        "colab": {
          "base_uri": "https://localhost:8080/",
          "height": 497
        }
      },
      "source": [
        "# from this we can clearly see they are more number of missing values in the both the co-ordinates and their latitude and longitudes \n",
        "crimes.info(null_counts=True)"
      ],
      "execution_count": 0,
      "outputs": [
        {
          "output_type": "stream",
          "text": [
            "<class 'pandas.core.frame.DataFrame'>\n",
            "DatetimeIndex: 7069282 entries, 2001-01-01 11:00:00 to 2017-11-30 09:00:00\n",
            "Data columns (total 22 columns):\n",
            "ID                      7069282 non-null int64\n",
            "Case Number             7069278 non-null object\n",
            "Date                    7069282 non-null object\n",
            "Block                   7069282 non-null object\n",
            "IUCR                    7069282 non-null object\n",
            "Primary Type            7069282 non-null object\n",
            "Description             7069282 non-null object\n",
            "Location Description    7063043 non-null object\n",
            "Arrest                  7069282 non-null bool\n",
            "Domestic                7069282 non-null bool\n",
            "Beat                    7069282 non-null int64\n",
            "District                7069235 non-null float64\n",
            "Ward                    6454453 non-null float64\n",
            "Community Area          6455786 non-null float64\n",
            "FBI Code                7069282 non-null object\n",
            "X Coordinate            7001482 non-null float64\n",
            "Y Coordinate            7001482 non-null float64\n",
            "Year                    7069282 non-null int64\n",
            "Updated On              7069282 non-null object\n",
            "Latitude                7001482 non-null float64\n",
            "Longitude               7001482 non-null float64\n",
            "Location                7001482 non-null object\n",
            "dtypes: bool(2), float64(7), int64(3), object(10)\n",
            "memory usage: 1.1+ GB\n"
          ],
          "name": "stdout"
        }
      ]
    },
    {
      "cell_type": "code",
      "metadata": {
        "colab_type": "code",
        "id": "WWM7fDUzYzZC",
        "outputId": "a977d923-c8fd-418b-c7a8-2389ac199e19",
        "colab": {
          "base_uri": "https://localhost:8080/",
          "height": 124
        }
      },
      "source": [
        "crimes.columns"
      ],
      "execution_count": 0,
      "outputs": [
        {
          "output_type": "execute_result",
          "data": {
            "text/plain": [
              "Index(['ID', 'Case Number', 'Date', 'Block', 'IUCR', 'Primary Type',\n",
              "       'Description', 'Location Description', 'Arrest', 'Domestic', 'Beat',\n",
              "       'District', 'Ward', 'Community Area', 'FBI Code', 'X Coordinate',\n",
              "       'Y Coordinate', 'Year', 'Updated On', 'Latitude', 'Longitude',\n",
              "       'Location'],\n",
              "      dtype='object')"
            ]
          },
          "metadata": {
            "tags": []
          },
          "execution_count": 15
        }
      ]
    },
    {
      "cell_type": "code",
      "metadata": {
        "id": "BglZ1TRsPx19",
        "colab_type": "code",
        "outputId": "ae1f0f87-5c9b-41f7-b8e6-fb13c2b8af25",
        "colab": {
          "base_uri": "https://localhost:8080/",
          "height": 426
        }
      },
      "source": [
        "crimes.isnull().sum()"
      ],
      "execution_count": 0,
      "outputs": [
        {
          "output_type": "execute_result",
          "data": {
            "text/plain": [
              "ID                           0\n",
              "Case Number                  4\n",
              "Date                         0\n",
              "Block                        0\n",
              "IUCR                         0\n",
              "Primary Type                 0\n",
              "Description                  0\n",
              "Location Description      6239\n",
              "Arrest                       0\n",
              "Domestic                     0\n",
              "Beat                         0\n",
              "District                    47\n",
              "Ward                    614829\n",
              "Community Area          613496\n",
              "FBI Code                     0\n",
              "X Coordinate             67800\n",
              "Y Coordinate             67800\n",
              "Year                         0\n",
              "Updated On                   0\n",
              "Latitude                 67800\n",
              "Longitude                67800\n",
              "Location                 67800\n",
              "dtype: int64"
            ]
          },
          "metadata": {
            "tags": []
          },
          "execution_count": 16
        }
      ]
    },
    {
      "cell_type": "code",
      "metadata": {
        "colab_type": "code",
        "id": "98mh3dhyY5y-",
        "outputId": "e6a969c4-5bad-4f99-b0e9-6ac4ac10c3be",
        "colab": {
          "base_uri": "https://localhost:8080/",
          "height": 35
        }
      },
      "source": [
        "# dropping all the null values from the dataset\n",
        "crimes.dropna(axis = 0, inplace = True)\n",
        "# dropping the duplicates from the data if any\n",
        "crimes.drop_duplicates(keep= False, inplace = True)\n",
        "print(crimes.isnull().sum().sum())\n",
        "assert crimes.notnull().all().all()\n",
        "# using assert function i would like to check whether my dataset consists of any null values or anything \n",
        "# if the condition satisfies , will not raise any error message  else will raise an error by doing this we can detect early warning and errors,and this gives confidence that our code is running correctly\n",
        "# this shows that there is not missing values in any of the columns"
      ],
      "execution_count": 0,
      "outputs": [
        {
          "output_type": "stream",
          "text": [
            "0\n"
          ],
          "name": "stdout"
        }
      ]
    },
    {
      "cell_type": "code",
      "metadata": {
        "colab_type": "code",
        "id": "tpgD56scY9n4",
        "outputId": "94801092-8b2f-4f6f-b7aa-29726efd8392",
        "colab": {
          "base_uri": "https://localhost:8080/",
          "height": 70
        }
      },
      "source": [
        "\n",
        "# initially the dataframe consists of 7 million rows after dropping all the null values the dataframe rows is reduces to 6.8 million rows approx\n",
        "print(crimes.shape)\n",
        "print(\"There are  {} Observation and  {} features in this dataset. \\n\".format(crimes.shape[0],crimes.shape[1]))"
      ],
      "execution_count": 0,
      "outputs": [
        {
          "output_type": "stream",
          "text": [
            "(6390619, 22)\n",
            "There are  6390619 Observation and  22 features in this dataset. \n",
            "\n"
          ],
          "name": "stdout"
        }
      ]
    },
    {
      "cell_type": "code",
      "metadata": {
        "colab_type": "code",
        "id": "kTJ-uOzYZCxs",
        "colab": {}
      },
      "source": [
        "# replacing the columns of boolean containing true or false to 1 and 0\n",
        "crimes.replace({True : 1,\n",
        "                False : 0\n",
        "               },inplace = True)"
      ],
      "execution_count": 0,
      "outputs": []
    },
    {
      "cell_type": "code",
      "metadata": {
        "id": "qXyECgUNV5dR",
        "colab_type": "code",
        "outputId": "79026784-2906-41c3-d985-2272b5cebdd4",
        "colab": {
          "base_uri": "https://localhost:8080/",
          "height": 35
        }
      },
      "source": [
        "unique_primary_types = crimes['Primary Type'].sort_values().unique()\n",
        "print('They are {} unique Primary Types'.format(len(unique_primary_types)))"
      ],
      "execution_count": 0,
      "outputs": [
        {
          "output_type": "stream",
          "text": [
            "They are 34 unique Primary Types\n"
          ],
          "name": "stdout"
        }
      ]
    },
    {
      "cell_type": "code",
      "metadata": {
        "id": "4K-8J_6lZvk3",
        "colab_type": "code",
        "outputId": "07559dec-bfd4-4452-9d6b-0fed094877cb",
        "colab": {
          "base_uri": "https://localhost:8080/",
          "height": 124
        }
      },
      "source": [
        "crimes['Primary Type'].value_counts().head()\n",
        "# this contains top 5 crimes from this i want to do more analysis on the theft cases and patterns of them "
      ],
      "execution_count": 0,
      "outputs": [
        {
          "output_type": "execute_result",
          "data": {
            "text/plain": [
              "THEFT              1356765\n",
              "BATTERY            1169770\n",
              "CRIMINAL DAMAGE     729277\n",
              "NARCOTICS           652702\n",
              "ASSAULT             402285\n",
              "Name: Primary Type, dtype: int64"
            ]
          },
          "metadata": {
            "tags": []
          },
          "execution_count": 21
        }
      ]
    },
    {
      "cell_type": "code",
      "metadata": {
        "id": "d6CN9hg-Q2Iv",
        "colab_type": "code",
        "outputId": "f9dfccf1-eac2-48ea-d301-3c3cfe53a997",
        "colab": {
          "base_uri": "https://localhost:8080/",
          "height": 124
        }
      },
      "source": [
        "crimes.columns"
      ],
      "execution_count": 0,
      "outputs": [
        {
          "output_type": "execute_result",
          "data": {
            "text/plain": [
              "Index(['ID', 'Case Number', 'Date', 'Block', 'IUCR', 'Primary Type',\n",
              "       'Description', 'Location Description', 'Arrest', 'Domestic', 'Beat',\n",
              "       'District', 'Ward', 'Community Area', 'FBI Code', 'X Coordinate',\n",
              "       'Y Coordinate', 'Year', 'Updated On', 'Latitude', 'Longitude',\n",
              "       'Location'],\n",
              "      dtype='object')"
            ]
          },
          "metadata": {
            "tags": []
          },
          "execution_count": 22
        }
      ]
    },
    {
      "cell_type": "code",
      "metadata": {
        "id": "7OXasenpOie5",
        "colab_type": "code",
        "colab": {}
      },
      "source": [
        "# saving into csv file \n",
        "crimes.to_csv('/content/cleaned_ChicagoCrimes.csv', index = True, header = 'True')\n",
        "crimes.to_pickle('/content/cleaned_ChicagoCrimes.pkl')"
      ],
      "execution_count": 0,
      "outputs": []
    },
    {
      "cell_type": "code",
      "metadata": {
        "id": "Ft5SuQyeicAB",
        "colab_type": "code",
        "colab": {}
      },
      "source": [
        "crimes.to_pickle('/content/cleaned_ChicagoCrimes.pkl')"
      ],
      "execution_count": 0,
      "outputs": []
    },
    {
      "cell_type": "code",
      "metadata": {
        "id": "4a1KyxxZMM-B",
        "colab_type": "code",
        "colab": {}
      },
      "source": [
        ""
      ],
      "execution_count": 0,
      "outputs": []
    },
    {
      "cell_type": "code",
      "metadata": {
        "id": "tHb7Pb5F23g4",
        "colab_type": "code",
        "colab": {}
      },
      "source": [
        ""
      ],
      "execution_count": 0,
      "outputs": []
    }
  ]
}