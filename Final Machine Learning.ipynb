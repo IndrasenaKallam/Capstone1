{
 "cells": [
  {
   "cell_type": "code",
   "execution_count": 28,
   "metadata": {},
   "outputs": [],
   "source": [
    "import pandas as pd \n",
    "import numpy as np \n",
    "import seaborn as sns\n",
    "import matplotlib.pyplot as plt\n",
    "from sklearn.model_selection import train_test_split\n",
    "from sklearn.model_selection import RandomizedSearchCV\n",
    "from sklearn.model_selection import cross_val_score\n",
    "from sklearn.linear_model import LogisticRegression\n",
    "from sklearn.linear_model import LinearRegression\n",
    "from sklearn.linear_model import Ridge\n",
    "from sklearn.linear_model import Lasso\n",
    "from sklearn.neighbors import KNeighborsClassifier\n",
    "from sklearn.metrics import accuracy_score\n",
    "from sklearn.metrics import roc_auc_score,auc\n",
    "from sklearn.metrics import roc_curve\n",
    "from sklearn.metrics import confusion_matrix\n",
    "from sklearn.metrics import classification_report\n",
    "from sklearn.preprocessing import LabelEncoder\n",
    "from sklearn.ensemble import AdaBoostClassifier\n",
    "from sklearn.ensemble import GradientBoostingClassifier"
   ]
  },
  {
   "cell_type": "code",
   "execution_count": 29,
   "metadata": {},
   "outputs": [
    {
     "data": {
      "text/html": [
       "<div>\n",
       "<style scoped>\n",
       "    .dataframe tbody tr th:only-of-type {\n",
       "        vertical-align: middle;\n",
       "    }\n",
       "\n",
       "    .dataframe tbody tr th {\n",
       "        vertical-align: top;\n",
       "    }\n",
       "\n",
       "    .dataframe thead th {\n",
       "        text-align: right;\n",
       "    }\n",
       "</style>\n",
       "<table border=\"1\" class=\"dataframe\">\n",
       "  <thead>\n",
       "    <tr style=\"text-align: right;\">\n",
       "      <th></th>\n",
       "      <th>Date</th>\n",
       "      <th>Primary Type</th>\n",
       "      <th>Description</th>\n",
       "      <th>Location Description</th>\n",
       "      <th>Arrest</th>\n",
       "      <th>Domestic</th>\n",
       "      <th>District</th>\n",
       "      <th>FBI Code</th>\n",
       "      <th>X Coordinate</th>\n",
       "      <th>Y Coordinate</th>\n",
       "      <th>Year</th>\n",
       "      <th>Latitude</th>\n",
       "      <th>Longitude</th>\n",
       "      <th>Location</th>\n",
       "      <th>Month</th>\n",
       "      <th>Day</th>\n",
       "      <th>Hour</th>\n",
       "      <th>Day Of Week</th>\n",
       "    </tr>\n",
       "  </thead>\n",
       "  <tbody>\n",
       "    <tr>\n",
       "      <td>60332</td>\n",
       "      <td>2019-01-03 19:20:00</td>\n",
       "      <td>PUBLIC PEACE VIOLATION</td>\n",
       "      <td>OTHER VIOLATION</td>\n",
       "      <td>AIRCRAFT</td>\n",
       "      <td>0</td>\n",
       "      <td>0</td>\n",
       "      <td>16.0</td>\n",
       "      <td>26</td>\n",
       "      <td>1100374.0</td>\n",
       "      <td>1943906.0</td>\n",
       "      <td>2019</td>\n",
       "      <td>42.002816</td>\n",
       "      <td>-87.906094</td>\n",
       "      <td>(42.002816387, -87.90609433)</td>\n",
       "      <td>1</td>\n",
       "      <td>3</td>\n",
       "      <td>19</td>\n",
       "      <td>3</td>\n",
       "    </tr>\n",
       "    <tr>\n",
       "      <td>62258</td>\n",
       "      <td>2019-03-16 17:58:00</td>\n",
       "      <td>BATTERY</td>\n",
       "      <td>SIMPLE</td>\n",
       "      <td>STREET</td>\n",
       "      <td>0</td>\n",
       "      <td>0</td>\n",
       "      <td>1.0</td>\n",
       "      <td>08B</td>\n",
       "      <td>1174723.0</td>\n",
       "      <td>1900866.0</td>\n",
       "      <td>2019</td>\n",
       "      <td>41.883369</td>\n",
       "      <td>-87.633860</td>\n",
       "      <td>(41.88336939, -87.633860272)</td>\n",
       "      <td>3</td>\n",
       "      <td>16</td>\n",
       "      <td>17</td>\n",
       "      <td>5</td>\n",
       "    </tr>\n",
       "    <tr>\n",
       "      <td>62600</td>\n",
       "      <td>2019-03-12 22:00:00</td>\n",
       "      <td>THEFT</td>\n",
       "      <td>$500 AND UNDER</td>\n",
       "      <td>RESIDENTIAL YARD (FRONT/BACK)</td>\n",
       "      <td>0</td>\n",
       "      <td>0</td>\n",
       "      <td>2.0</td>\n",
       "      <td>06</td>\n",
       "      <td>1182276.0</td>\n",
       "      <td>1879784.0</td>\n",
       "      <td>2019</td>\n",
       "      <td>41.825347</td>\n",
       "      <td>-87.606781</td>\n",
       "      <td>(41.825346902, -87.606780575)</td>\n",
       "      <td>3</td>\n",
       "      <td>12</td>\n",
       "      <td>22</td>\n",
       "      <td>1</td>\n",
       "    </tr>\n",
       "    <tr>\n",
       "      <td>62633</td>\n",
       "      <td>2019-03-14 18:42:00</td>\n",
       "      <td>BATTERY</td>\n",
       "      <td>SIMPLE</td>\n",
       "      <td>RESIDENCE</td>\n",
       "      <td>0</td>\n",
       "      <td>0</td>\n",
       "      <td>24.0</td>\n",
       "      <td>08B</td>\n",
       "      <td>1163827.0</td>\n",
       "      <td>1949311.0</td>\n",
       "      <td>2019</td>\n",
       "      <td>42.016542</td>\n",
       "      <td>-87.672499</td>\n",
       "      <td>(42.016541612, -87.672499325)</td>\n",
       "      <td>3</td>\n",
       "      <td>14</td>\n",
       "      <td>18</td>\n",
       "      <td>3</td>\n",
       "    </tr>\n",
       "    <tr>\n",
       "      <td>62634</td>\n",
       "      <td>2019-03-14 16:03:00</td>\n",
       "      <td>OTHER OFFENSE</td>\n",
       "      <td>OTHER VEHICLE OFFENSE</td>\n",
       "      <td>STREET</td>\n",
       "      <td>0</td>\n",
       "      <td>1</td>\n",
       "      <td>2.0</td>\n",
       "      <td>26</td>\n",
       "      <td>1182227.0</td>\n",
       "      <td>1879766.0</td>\n",
       "      <td>2019</td>\n",
       "      <td>41.825299</td>\n",
       "      <td>-87.606961</td>\n",
       "      <td>(41.825298645, -87.6069609)</td>\n",
       "      <td>3</td>\n",
       "      <td>14</td>\n",
       "      <td>16</td>\n",
       "      <td>3</td>\n",
       "    </tr>\n",
       "  </tbody>\n",
       "</table>\n",
       "</div>"
      ],
      "text/plain": [
       "                     Date            Primary Type            Description  \\\n",
       "60332 2019-01-03 19:20:00  PUBLIC PEACE VIOLATION        OTHER VIOLATION   \n",
       "62258 2019-03-16 17:58:00                 BATTERY                 SIMPLE   \n",
       "62600 2019-03-12 22:00:00                   THEFT         $500 AND UNDER   \n",
       "62633 2019-03-14 18:42:00                 BATTERY                 SIMPLE   \n",
       "62634 2019-03-14 16:03:00           OTHER OFFENSE  OTHER VEHICLE OFFENSE   \n",
       "\n",
       "                Location Description  Arrest  Domestic  District FBI Code  \\\n",
       "60332                       AIRCRAFT       0         0      16.0       26   \n",
       "62258                         STREET       0         0       1.0      08B   \n",
       "62600  RESIDENTIAL YARD (FRONT/BACK)       0         0       2.0       06   \n",
       "62633                      RESIDENCE       0         0      24.0      08B   \n",
       "62634                         STREET       0         1       2.0       26   \n",
       "\n",
       "       X Coordinate  Y Coordinate  Year   Latitude  Longitude  \\\n",
       "60332     1100374.0     1943906.0  2019  42.002816 -87.906094   \n",
       "62258     1174723.0     1900866.0  2019  41.883369 -87.633860   \n",
       "62600     1182276.0     1879784.0  2019  41.825347 -87.606781   \n",
       "62633     1163827.0     1949311.0  2019  42.016542 -87.672499   \n",
       "62634     1182227.0     1879766.0  2019  41.825299 -87.606961   \n",
       "\n",
       "                            Location  Month  Day  Hour  Day Of Week  \n",
       "60332   (42.002816387, -87.90609433)      1    3    19            3  \n",
       "62258   (41.88336939, -87.633860272)      3   16    17            5  \n",
       "62600  (41.825346902, -87.606780575)      3   12    22            1  \n",
       "62633  (42.016541612, -87.672499325)      3   14    18            3  \n",
       "62634    (41.825298645, -87.6069609)      3   14    16            3  "
      ]
     },
     "execution_count": 29,
     "metadata": {},
     "output_type": "execute_result"
    }
   ],
   "source": [
    "# Reading the dataset\n",
    "crimes = pd.read_pickle('cleaned_ChicagoCrimes.pkl')\n",
    "crimes.head()"
   ]
  },
  {
   "cell_type": "code",
   "execution_count": 30,
   "metadata": {},
   "outputs": [],
   "source": [
    "# Dropping the unwanted columns\n",
    "crimes.drop(['Date','Location'],axis=1,inplace=True)"
   ]
  },
  {
   "cell_type": "code",
   "execution_count": 31,
   "metadata": {},
   "outputs": [
    {
     "name": "stdout",
     "output_type": "stream",
     "text": [
      "<class 'pandas.core.frame.DataFrame'>\n",
      "Int64Index: 6514457 entries, 60332 to 7069279\n",
      "Data columns (total 16 columns):\n",
      "Primary Type            object\n",
      "Description             object\n",
      "Location Description    object\n",
      "Arrest                  int64\n",
      "Domestic                int64\n",
      "District                float64\n",
      "FBI Code                object\n",
      "X Coordinate            float64\n",
      "Y Coordinate            float64\n",
      "Year                    int64\n",
      "Latitude                float64\n",
      "Longitude               float64\n",
      "Month                   int64\n",
      "Day                     int64\n",
      "Hour                    int64\n",
      "Day Of Week             int64\n",
      "dtypes: float64(5), int64(7), object(4)\n",
      "memory usage: 844.9+ MB\n"
     ]
    }
   ],
   "source": [
    "crimes.info()"
   ]
  },
  {
   "cell_type": "code",
   "execution_count": 32,
   "metadata": {},
   "outputs": [
    {
     "data": {
      "text/plain": [
       "Primary Type            0\n",
       "Description             0\n",
       "Location Description    0\n",
       "Arrest                  0\n",
       "Domestic                0\n",
       "District                0\n",
       "FBI Code                0\n",
       "X Coordinate            0\n",
       "Y Coordinate            0\n",
       "Year                    0\n",
       "Latitude                0\n",
       "Longitude               0\n",
       "Month                   0\n",
       "Day                     0\n",
       "Hour                    0\n",
       "Day Of Week             0\n",
       "dtype: int64"
      ]
     },
     "execution_count": 32,
     "metadata": {},
     "output_type": "execute_result"
    }
   ],
   "source": [
    "# Check for missing Values\n",
    "crimes.isnull().sum()"
   ]
  },
  {
   "cell_type": "code",
   "execution_count": 33,
   "metadata": {},
   "outputs": [
    {
     "name": "stdout",
     "output_type": "stream",
     "text": [
      "<class 'pandas.core.frame.DataFrame'>\n",
      "Int64Index: 6514457 entries, 60332 to 7069279\n",
      "Data columns (total 16 columns):\n",
      "Primary Type            int32\n",
      "Description             int32\n",
      "Location Description    int32\n",
      "Arrest                  int64\n",
      "Domestic                int64\n",
      "District                float64\n",
      "FBI Code                int32\n",
      "X Coordinate            float64\n",
      "Y Coordinate            float64\n",
      "Year                    int64\n",
      "Latitude                float64\n",
      "Longitude               float64\n",
      "Month                   int64\n",
      "Day                     int64\n",
      "Hour                    int64\n",
      "Day Of Week             int64\n",
      "dtypes: float64(5), int32(4), int64(7)\n",
      "memory usage: 745.5 MB\n"
     ]
    }
   ],
   "source": [
    "labels = ['Primary Type','Description','Location Description','FBI Code',]\n",
    "le = LabelEncoder()\n",
    "pt_labels = le.fit_transform(crimes['Primary Type'])\n",
    "desc_labels = le.fit_transform(crimes['Description'])\n",
    "Location_labels = le.fit_transform(crimes['Location Description'])\n",
    "fbi_labels = le.fit_transform(crimes['FBI Code'])\n",
    "crimes['Primary Type'] = pt_labels\n",
    "crimes['Description'] = desc_labels\n",
    "crimes['Location Description'] = Location_labels\n",
    "crimes['FBI Code'] = fbi_labels\n",
    "crimes.info()\n"
   ]
  },
  {
   "cell_type": "code",
   "execution_count": 34,
   "metadata": {},
   "outputs": [],
   "source": [
    "# Spliting the data \n",
    "X = crimes.drop(['Arrest'],axis=1).values\n",
    "y = crimes.Arrest.values\n",
    "X_train,X_test,y_train,y_test = train_test_split(X,y,test_size=0.3,random_state=42)"
   ]
  },
  {
   "cell_type": "code",
   "execution_count": 35,
   "metadata": {},
   "outputs": [
    {
     "name": "stdout",
     "output_type": "stream",
     "text": [
      "X training shape : (4560119, 15)\n",
      "X testing shape : (1954338, 15)\n",
      "y training shape : (4560119,)\n",
      "y testing shape : (1954338,)\n"
     ]
    }
   ],
   "source": [
    "print('X training shape :',X_train.shape)\n",
    "print('X testing shape :',X_test.shape)\n",
    "print('y training shape :',y_train.shape)\n",
    "print('y testing shape :',y_test.shape)"
   ]
  },
  {
   "cell_type": "code",
   "execution_count": 36,
   "metadata": {},
   "outputs": [],
   "source": [
    "# logistic Regression\n",
    "lg  = LogisticRegression()\n",
    "lg.fit(X_train,y_train)\n",
    "y_pred = lg.predict(X_test)"
   ]
  },
  {
   "cell_type": "code",
   "execution_count": 37,
   "metadata": {},
   "outputs": [
    {
     "name": "stdout",
     "output_type": "stream",
     "text": [
      "0.7263917500452839\n"
     ]
    }
   ],
   "source": [
    "print(lg.score(X_test,y_test))"
   ]
  },
  {
   "cell_type": "code",
   "execution_count": 38,
   "metadata": {},
   "outputs": [
    {
     "name": "stdout",
     "output_type": "stream",
     "text": [
      "Accuracy: 0.7263917500452839\n",
      "Testing accuracy 0.7263917500452839\n",
      "training  0.7262893797289062\n"
     ]
    }
   ],
   "source": [
    "print('Accuracy:',accuracy_score(y_test,y_pred))\n",
    "print('Testing accuracy',lg.score(X_test,y_test))\n",
    "print('training ',lg.score(X_train,y_train))"
   ]
  },
  {
   "cell_type": "code",
   "execution_count": 39,
   "metadata": {},
   "outputs": [
    {
     "name": "stdout",
     "output_type": "stream",
     "text": [
      "Confusion Matrix\n",
      "-----------------\n",
      "[[1419593      24]\n",
      " [ 534699      22]]\n"
     ]
    }
   ],
   "source": [
    "print('Confusion Matrix')\n",
    "print('-----------------')\n",
    "print(confusion_matrix(y_test,y_pred))"
   ]
  },
  {
   "cell_type": "code",
   "execution_count": 40,
   "metadata": {},
   "outputs": [
    {
     "data": {
      "text/html": [
       "<div>\n",
       "<style scoped>\n",
       "    .dataframe tbody tr th:only-of-type {\n",
       "        vertical-align: middle;\n",
       "    }\n",
       "\n",
       "    .dataframe tbody tr th {\n",
       "        vertical-align: top;\n",
       "    }\n",
       "\n",
       "    .dataframe thead th {\n",
       "        text-align: right;\n",
       "    }\n",
       "</style>\n",
       "<table border=\"1\" class=\"dataframe\">\n",
       "  <thead>\n",
       "    <tr style=\"text-align: right;\">\n",
       "      <th></th>\n",
       "      <th>Predicted False</th>\n",
       "      <th>Predicted True</th>\n",
       "    </tr>\n",
       "  </thead>\n",
       "  <tbody>\n",
       "    <tr>\n",
       "      <td>Actual False</td>\n",
       "      <td>1419593</td>\n",
       "      <td>24</td>\n",
       "    </tr>\n",
       "    <tr>\n",
       "      <td>Actual True</td>\n",
       "      <td>534699</td>\n",
       "      <td>22</td>\n",
       "    </tr>\n",
       "  </tbody>\n",
       "</table>\n",
       "</div>"
      ],
      "text/plain": [
       "              Predicted False  Predicted True\n",
       "Actual False          1419593              24\n",
       "Actual True            534699              22"
      ]
     },
     "execution_count": 40,
     "metadata": {},
     "output_type": "execute_result"
    }
   ],
   "source": [
    "conf_matrix=pd.DataFrame(confusion_matrix(y_test, y_pred))\n",
    "conf_matrix.index = ['Actual False','Actual True']\n",
    "conf_matrix.columns = ['Predicted False','Predicted True']\n",
    "conf_matrix"
   ]
  },
  {
   "cell_type": "code",
   "execution_count": 41,
   "metadata": {},
   "outputs": [
    {
     "name": "stdout",
     "output_type": "stream",
     "text": [
      "              precision    recall  f1-score   support\n",
      "\n",
      "           0       0.73      1.00      0.84   1419617\n",
      "           1       0.48      0.00      0.00    534721\n",
      "\n",
      "    accuracy                           0.73   1954338\n",
      "   macro avg       0.60      0.50      0.42   1954338\n",
      "weighted avg       0.66      0.73      0.61   1954338\n",
      "\n"
     ]
    }
   ],
   "source": [
    "from sklearn.metrics import classification_report\n",
    "print(classification_report(y_test, y_pred))"
   ]
  },
  {
   "cell_type": "code",
   "execution_count": 42,
   "metadata": {},
   "outputs": [
    {
     "name": "stdout",
     "output_type": "stream",
     "text": [
      "Accuracy from confusion Matrix: 0.7263917500452839\n",
      "Misclassification Rate: 0.2736082499547161\n",
      "True Positive Rate: 4.114295118388842e-05\n",
      "Precision: 0.4782608695652174\n"
     ]
    }
   ],
   "source": [
    "print('Accuracy from confusion Matrix:',(1419593+22)/(1419593+22+534699+24))\n",
    "print('Misclassification Rate:',(24+534699)/(1419593+22+534699+24))\n",
    "# True Positive Rate: actually yes and how often it is predicted as yes: recall or sensitivity:tp/actual yes\n",
    "print('True Positive Rate:',(22)/(534699+22))\n",
    "# tp/predicted\n",
    "print('Precision:',22/(22+24))"
   ]
  },
  {
   "cell_type": "code",
   "execution_count": 44,
   "metadata": {},
   "outputs": [
    {
     "name": "stdout",
     "output_type": "stream",
     "text": [
      "AUC Score 0.500012118491442\n"
     ]
    }
   ],
   "source": [
    "fpr,tpr,thresholds = roc_curve(y_test,lg.predict_proba(X_test)[:,1])\n",
    "print('AUC Score',roc_auc_score(y_test,y_pred))"
   ]
  },
  {
   "cell_type": "code",
   "execution_count": 54,
   "metadata": {},
   "outputs": [
    {
     "name": "stdout",
     "output_type": "stream",
     "text": [
      "Tuned Logistic Regression Parameter: {'C': 0.001, 'penalty': 'l2'}\n",
      "Tuned Logistic Regression Accuracy: 0.7262911340697576\n",
      "Accuracy Score: 0.7263917500452839\n"
     ]
    }
   ],
   "source": [
    "from sklearn.model_selection import GridSearchCV\n",
    "from sklearn.exceptions import FitFailedWarning\n",
    "import warnings\n",
    "\n",
    "# Create the hyperparameter grid\n",
    "c_space = [0.001, 0.1, 1, 10, 100] \n",
    "param_grid = {'C': c_space, 'penalty': ['l2']}\n",
    "\n",
    "# Instantiate the logistic regression classifier: logregw\n",
    "logreg = LogisticRegression()\n",
    "\n",
    "# Instantiate the GridSearchCV object: logreg_cv\n",
    "logreg_cv = GridSearchCV(logreg, param_grid ,cv=5)\n",
    "\n",
    "# Fit it to the training data\n",
    "logreg_cv.fit(X_train, y_train)\n",
    "\n",
    "# Print the optimal parameters and best score\n",
    "print(\"Tuned Logistic Regression Parameter: {}\".format(logreg_cv.best_params_))\n",
    "print(\"Tuned Logistic Regression Accuracy: {}\".format(logreg_cv.best_score_))\n",
    "\n",
    "print('Accuracy Score:', accuracy_score(logreg_cv.predict(X_test), y_test))"
   ]
  },
  {
   "cell_type": "markdown",
   "metadata": {},
   "source": [
    "# Decision Trees"
   ]
  },
  {
   "cell_type": "code",
   "execution_count": 20,
   "metadata": {},
   "outputs": [],
   "source": [
    "# decision Tree\n",
    "from sklearn.tree import DecisionTreeClassifier\n",
    "dt =  DecisionTreeClassifier()\n",
    "dt.fit(X_train,y_train)\n",
    "dt_pred = dt.predict(X_test)\n",
    "dt_pred_proba = dt.predict_proba(X_test)[:,1]"
   ]
  },
  {
   "cell_type": "code",
   "execution_count": 21,
   "metadata": {},
   "outputs": [
    {
     "name": "stdout",
     "output_type": "stream",
     "text": [
      "Accuracy: 0.8270836467386911\n"
     ]
    }
   ],
   "source": [
    "print('Accuracy:',accuracy_score(y_test,dt_pred))"
   ]
  },
  {
   "cell_type": "code",
   "execution_count": 22,
   "metadata": {},
   "outputs": [
    {
     "name": "stdout",
     "output_type": "stream",
     "text": [
      "[[1240073  179544]\n",
      " [ 158393  376328]]\n"
     ]
    }
   ],
   "source": [
    "print(confusion_matrix(y_test,dt_pred))"
   ]
  },
  {
   "cell_type": "code",
   "execution_count": 23,
   "metadata": {},
   "outputs": [
    {
     "name": "stdout",
     "output_type": "stream",
     "text": [
      "              precision    recall  f1-score   support\n",
      "\n",
      "           0       0.89      0.87      0.88   1419617\n",
      "           1       0.68      0.70      0.69    534721\n",
      "\n",
      "    accuracy                           0.83   1954338\n",
      "   macro avg       0.78      0.79      0.79   1954338\n",
      "weighted avg       0.83      0.83      0.83   1954338\n",
      "\n"
     ]
    }
   ],
   "source": [
    "print(classification_report(y_test,dt_pred))"
   ]
  },
  {
   "cell_type": "code",
   "execution_count": 25,
   "metadata": {},
   "outputs": [
    {
     "name": "stdout",
     "output_type": "stream",
     "text": [
      "AUC Score 0.78865514678173\n"
     ]
    },
    {
     "data": {
      "text/plain": [
       "<matplotlib.legend.Legend at 0x241a9c2e748>"
      ]
     },
     "execution_count": 25,
     "metadata": {},
     "output_type": "execute_result"
    },
    {
     "data": {
      "image/png": "[encoded data removed]",
      "text/plain": [
       "<Figure size 432x288 with 1 Axes>"
      ]
     },
     "metadata": {
      "needs_background": "light"
     },
     "output_type": "display_data"
    }
   ],
   "source": [
    "fpr,tpr,thresholds = roc_curve(y_test,dt.predict_proba(X_test)[:,1])\n",
    "print('AUC Score',roc_auc_score(y_test,dt_pred))\n",
    "fpr,tpr,thresholds = roc_curve(y_test,dt_pred_proba)\n",
    "roc_auc = auc(fpr,tpr)\n",
    "plt.title('ROC curve of Decision Curve')\n",
    "plt.xlabel('FPR')\n",
    "plt.ylabel('TPR')\n",
    "plt.plot([0, 1], [0, 1], color='navy', lw=2, linestyle='--')\n",
    "plt.xlim([0.0, 1.0])\n",
    "#plt.ylim([0.0, 1.05])\n",
    "plt.plot(fpr,tpr,color='darkorange',label ='ROC curve (area = %0.2f)' % roc_auc)\n",
    "plt.legend(loc=\"lower right\")"
   ]
  },
  {
   "cell_type": "code",
   "execution_count": null,
   "metadata": {},
   "outputs": [],
   "source": [
    "from sklearn.model_selection import GridSearchCV\n",
    "from sklearn.exceptions import FitFailedWarning\n",
    "import warnings\n",
    "\n",
    "# Create the hyperparameter grid\n",
    "\n",
    "param_grid = {'criterion' : ['gini', 'entropy'],\n",
    "              'splitter'  : ['best', 'random'],\n",
    "              'max_depth' : [4,6,8,12]\n",
    "            }\n",
    "\n",
    "# Instantiate the logistic regression classifier: logregw\n",
    "dt = dt\n",
    "\n",
    "# Instantiate the GridSearchCV object: logreg_cv\n",
    "dt_cv = GridSearchCV(logreg, param_grid ,cv=5)\n",
    "\n",
    "# Fit it to the training data\n",
    "dt_cv.fit(X_train, y_train)\n",
    "\n",
    "# Print the optimal parameters and best score\n",
    "print(\"Tuned Logistic Regression Parameter: {}\".format(dt_cv.best_params_))\n",
    "print(\"Tuned Logistic Regression Accuracy: {}\".format(dt_cv.best_score_))\n",
    "\n",
    "print('Accuracy Score:', accuracy_score(dt_cv.predict(X_test), y_test))"
   ]
  },
  {
   "cell_type": "markdown",
   "metadata": {},
   "source": [
    "# Random Forests"
   ]
  },
  {
   "cell_type": "code",
   "execution_count": 49,
   "metadata": {},
   "outputs": [
    {
     "name": "stdout",
     "output_type": "stream",
     "text": [
      "accuracy - prediction:  0.8912035686764521\n"
     ]
    }
   ],
   "source": [
    "# random Forest \n",
    "from sklearn.ensemble import RandomForestClassifier\n",
    "rf = RandomForestClassifier()\n",
    "rf.fit(X_train,y_train)\n",
    "rf_y_pred = rf.predict(X_test)\n",
    "rf_y_pred_proba = rf.predict_proba(X_test)[:,1]\n",
    "print('accuracy - prediction: ',accuracy_score(y_test,rf_y_pred))"
   ]
  },
  {
   "cell_type": "code",
   "execution_count": 88,
   "metadata": {},
   "outputs": [
    {
     "name": "stdout",
     "output_type": "stream",
     "text": [
      "[[1385590   34027]\n",
      " [ 178598  356123]]\n"
     ]
    }
   ],
   "source": [
    "print(confusion_matrix(y_test,rf_y_pred))"
   ]
  },
  {
   "cell_type": "code",
   "execution_count": 51,
   "metadata": {},
   "outputs": [
    {
     "name": "stdout",
     "output_type": "stream",
     "text": [
      "              precision    recall  f1-score   support\n",
      "\n",
      "           0       0.89      0.98      0.93   1419617\n",
      "           1       0.91      0.67      0.77    534721\n",
      "\n",
      "    accuracy                           0.89   1954338\n",
      "   macro avg       0.90      0.82      0.85   1954338\n",
      "weighted avg       0.89      0.89      0.89   1954338\n",
      "\n",
      "[[1385590   34027]\n",
      " [ 178598  356123]]\n"
     ]
    }
   ],
   "source": [
    "print(classification_report(y_test,rf_y_pred))\n",
    "print(confusion_matrix(y_test,rf_y_pred))"
   ]
  },
  {
   "cell_type": "code",
   "execution_count": 90,
   "metadata": {},
   "outputs": [
    {
     "data": {
      "text/plain": [
       "<matplotlib.legend.Legend at 0x21497ce2ec8>"
      ]
     },
     "execution_count": 90,
     "metadata": {},
     "output_type": "execute_result"
    },
    {
     "data": {
      "image/png": "[encoded data removed]",
      "text/plain": [
       "<Figure size 432x288 with 1 Axes>"
      ]
     },
     "metadata": {},
     "output_type": "display_data"
    }
   ],
   "source": [
    "sns.set()\n",
    "fpr,tpr,thresholds = roc_curve(y_test,rf_y_pred_proba)\n",
    "roc_auc = auc(fpr,tpr)\n",
    "plt.title('ROC curve of Random Forest')\n",
    "plt.xlabel('fpr')\n",
    "plt.ylabel('tpr')\n",
    "plt.plot([0, 1], [0, 1], color='navy', lw=2, linestyle='--')\n",
    "plt.xlim([0.0, 1.0])\n",
    "#plt.ylim([0.0, 1.05])\n",
    "plt.plot(fpr,tpr,color='darkorange',label ='ROC curve (area = %0.2f)' % roc_auc)\n",
    "plt.legend(loc=\"lower right\")"
   ]
  },
  {
   "cell_type": "code",
   "execution_count": 65,
   "metadata": {},
   "outputs": [
    {
     "name": "stdout",
     "output_type": "stream",
     "text": [
      "Acccuracy: 0.8912035686764521\n"
     ]
    }
   ],
   "source": [
    "print('Acccuracy:',accuracy_score(y_test,rf_y_pred))"
   ]
  },
  {
   "cell_type": "code",
   "execution_count": 89,
   "metadata": {},
   "outputs": [
    {
     "name": "stdout",
     "output_type": "stream",
     "text": [
      "Auc_score 0.8210143205241873\n"
     ]
    }
   ],
   "source": [
    "print('Auc_score',roc_auc_score(y_test,rf_y_pred))"
   ]
  },
  {
   "cell_type": "code",
   "execution_count": null,
   "metadata": {},
   "outputs": [],
   "source": [
    "from sklearn.model_selection import GridSearchCV\n",
    "from sklearn.exceptions import FitFailedWarning\n",
    "import warnings\n",
    "\n",
    "# Create the hyperparameter grid\n",
    "\n",
    "param_grid = {'n_estimators' : [10,50,100],\n",
    "              'max_depth' : [10,50,100]\n",
    "              'bootstrap' : ['True','False']\n",
    "            }\n",
    "\n",
    "# Instantiate the logistic regression classifier: logregw\n",
    "dt = dt\n",
    "\n",
    "# Instantiate the GridSearchCV object: logreg_cv\n",
    "dt_cv = GridSearchCV(logreg, param_grid ,cv=5)\n",
    "\n",
    "# Fit it to the training data\n",
    "dt_cv.fit(X_train, y_train)\n",
    "\n",
    "# Print the optimal parameters and best score\n",
    "print(\"Tuned Logistic Regression Parameter: {}\".format(dt_cv.best_params_))\n",
    "print(\"Tuned Logistic Regression Accuracy: {}\".format(dt_cv.best_score_))\n",
    "\n",
    "print('Accuracy Score:', accuracy_score(dt_cv.predict(X_test), y_test))"
   ]
  },
  {
   "cell_type": "markdown",
   "metadata": {},
   "source": [
    "# Ada boost"
   ]
  },
  {
   "cell_type": "code",
   "execution_count": 75,
   "metadata": {},
   "outputs": [],
   "source": [
    "ad = AdaBoostClassifier()\n",
    "ad.fit(X_train,y_train)\n",
    "ad_y_pred = ad.predict(X_test)\n"
   ]
  },
  {
   "cell_type": "code",
   "execution_count": 76,
   "metadata": {},
   "outputs": [
    {
     "name": "stdout",
     "output_type": "stream",
     "text": [
      "accuracy - prediction:  0.8642056798772781\n"
     ]
    },
    {
     "data": {
      "text/plain": [
       "<matplotlib.legend.Legend at 0x21497c6bd48>"
      ]
     },
     "execution_count": 76,
     "metadata": {},
     "output_type": "execute_result"
    },
    {
     "data": {
      "image/png": "[encoded data removed]",
      "text/plain": [
       "<Figure size 432x288 with 1 Axes>"
      ]
     },
     "metadata": {},
     "output_type": "display_data"
    }
   ],
   "source": [
    "ad_y_pred_proba = ad.predict_proba(X_test)[:,1]\n",
    "print('accuracy - prediction: ',accuracy_score(y_test,ad_y_pred))\n",
    "sns.set()\n",
    "fpr,tpr,thresholds = roc_curve(y_test,ad_y_pred_proba)\n",
    "roc_auc = auc(fpr,tpr)\n",
    "plt.title('ROC curve of Random Forest')\n",
    "plt.xlabel('fpr')\n",
    "plt.ylabel('tpr')\n",
    "plt.plot([0, 1], [0, 1], color='navy', lw=2, linestyle='--')\n",
    "plt.xlim([0.0, 1.0])\n",
    "#plt.ylim([0.0, 1.05])\n",
    "plt.plot(fpr,tpr,color='darkorange',label ='ROC curve (area = %0.2f)' % roc_auc)\n",
    "plt.legend(loc=\"lower right\")"
   ]
  },
  {
   "cell_type": "code",
   "execution_count": 77,
   "metadata": {},
   "outputs": [
    {
     "name": "stdout",
     "output_type": "stream",
     "text": [
      "              precision    recall  f1-score   support\n",
      "\n",
      "           0       0.86      0.98      0.91   1419617\n",
      "           1       0.90      0.56      0.69    534721\n",
      "\n",
      "    accuracy                           0.86   1954338\n",
      "   macro avg       0.88      0.77      0.80   1954338\n",
      "weighted avg       0.87      0.86      0.85   1954338\n",
      "\n"
     ]
    }
   ],
   "source": [
    "print(classification_report(y_test,ad.predict(X_test)))\n"
   ]
  },
  {
   "cell_type": "code",
   "execution_count": 85,
   "metadata": {},
   "outputs": [
    {
     "name": "stdout",
     "output_type": "stream",
     "text": [
      "[[1387637   31980]\n",
      " [ 233408  301313]]\n"
     ]
    }
   ],
   "source": [
    "print(confusion_matrix(y_test,ad_y_pred))"
   ]
  },
  {
   "cell_type": "markdown",
   "metadata": {},
   "source": [
    "# Gradiant Boosting Classifier"
   ]
  },
  {
   "cell_type": "code",
   "execution_count": 78,
   "metadata": {},
   "outputs": [],
   "source": [
    "gbc = GradientBoostingClassifier()\n",
    "gbc.fit(X_train,y_train)\n",
    "gbc_y_pred = gbc.predict(X_test)"
   ]
  },
  {
   "cell_type": "code",
   "execution_count": 79,
   "metadata": {},
   "outputs": [
    {
     "name": "stdout",
     "output_type": "stream",
     "text": [
      "accuracy - prediction:  0.8782150272880126\n"
     ]
    }
   ],
   "source": [
    "gbc_y_pred_proba = gbc.predict_proba(X_test)[:,1]\n",
    "print('accuracy - prediction: ',accuracy_score(y_test,gbc_y_pred))\n"
   ]
  },
  {
   "cell_type": "code",
   "execution_count": 80,
   "metadata": {},
   "outputs": [
    {
     "data": {
      "text/plain": [
       "<matplotlib.legend.Legend at 0x21497c63488>"
      ]
     },
     "execution_count": 80,
     "metadata": {},
     "output_type": "execute_result"
    },
    {
     "data": {
      "image/png": "[encoded data removed]",
      "text/plain": [
       "<Figure size 432x288 with 1 Axes>"
      ]
     },
     "metadata": {},
     "output_type": "display_data"
    }
   ],
   "source": [
    "sns.set()\n",
    "fpr,tpr,thresholds = roc_curve(y_test,gbc_y_pred_proba)\n",
    "roc_auc = auc(fpr,tpr)\n",
    "plt.title('ROC curve of Graident Boosting')\n",
    "plt.xlabel('fpr')\n",
    "plt.ylabel('tpr')\n",
    "plt.plot([0, 1], [0, 1], color='navy', lw=2, linestyle='--')\n",
    "plt.xlim([0.0, 1.0])\n",
    "#plt.ylim([0.0, 1.05])\n",
    "plt.plot(fpr,tpr,color='darkorange',label ='ROC curve (area = %0.2f)' % roc_auc)\n",
    "plt.legend(loc=\"lower right\")"
   ]
  },
  {
   "cell_type": "code",
   "execution_count": 83,
   "metadata": {},
   "outputs": [
    {
     "name": "stdout",
     "output_type": "stream",
     "text": [
      "              precision    recall  f1-score   support\n",
      "\n",
      "           0       0.87      0.97      0.92   1419617\n",
      "           1       0.90      0.63      0.74    534721\n",
      "\n",
      "    accuracy                           0.88   1954338\n",
      "   macro avg       0.89      0.80      0.83   1954338\n",
      "weighted avg       0.88      0.88      0.87   1954338\n",
      "\n"
     ]
    }
   ],
   "source": [
    "print(classification_report(y_test,gbc_y_pred))"
   ]
  },
  {
   "cell_type": "code",
   "execution_count": 84,
   "metadata": {},
   "outputs": [
    {
     "name": "stdout",
     "output_type": "stream",
     "text": [
      "[[1380918   38699]\n",
      " [ 199310  335411]]\n"
     ]
    }
   ],
   "source": [
    "print(confusion_matrix(y_test,gbc_y_pred))"
   ]
  },
  {
   "cell_type": "code",
   "execution_count": null,
   "metadata": {},
   "outputs": [],
   "source": []
  }
 ],
 "metadata": {
  "kernelspec": {
   "display_name": "Python 3",
   "language": "python",
   "name": "python3"
  },
  "language_info": {
   "codemirror_mode": {
    "name": "ipython",
    "version": 3
   },
   "file_extension": ".py",
   "mimetype": "text/x-python",
   "name": "python",
   "nbconvert_exporter": "python",
   "pygments_lexer": "ipython3",
   "version": "3.7.4"
  }
 },
 "nbformat": 4,
 "nbformat_minor": 4
}
