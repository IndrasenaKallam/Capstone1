{
 "cells": [
  {
   "cell_type": "code",
   "execution_count": 36,
   "metadata": {},
   "outputs": [],
   "source": [
    "import pandas as pd \n",
    "from datetime import datetime\n",
    "import seaborn as sns\n",
    "import matplotlib.pyplot as plt"
   ]
  },
  {
   "cell_type": "code",
   "execution_count": 91,
   "metadata": {},
   "outputs": [
    {
     "name": "stderr",
     "output_type": "stream",
     "text": [
      "C:\\Users\\19405\\Anaconda3\\lib\\site-packages\\IPython\\core\\interactiveshell.py:3058: DtypeWarning: Columns (21) have mixed types. Specify dtype option on import or set low_memory=False.\n",
      "  interactivity=interactivity, compiler=compiler, result=result)\n"
     ]
    },
    {
     "data": {
      "text/html": [
       "<div>\n",
       "<style scoped>\n",
       "    .dataframe tbody tr th:only-of-type {\n",
       "        vertical-align: middle;\n",
       "    }\n",
       "\n",
       "    .dataframe tbody tr th {\n",
       "        vertical-align: top;\n",
       "    }\n",
       "\n",
       "    .dataframe thead th {\n",
       "        text-align: right;\n",
       "    }\n",
       "</style>\n",
       "<table border=\"1\" class=\"dataframe\">\n",
       "  <thead>\n",
       "    <tr style=\"text-align: right;\">\n",
       "      <th></th>\n",
       "      <th>ID</th>\n",
       "      <th>Case Number</th>\n",
       "      <th>Date</th>\n",
       "      <th>Block</th>\n",
       "      <th>IUCR</th>\n",
       "      <th>Primary Type</th>\n",
       "      <th>Description</th>\n",
       "      <th>Location Description</th>\n",
       "      <th>Arrest</th>\n",
       "      <th>Domestic</th>\n",
       "      <th>...</th>\n",
       "      <th>Ward</th>\n",
       "      <th>Community Area</th>\n",
       "      <th>FBI Code</th>\n",
       "      <th>X Coordinate</th>\n",
       "      <th>Y Coordinate</th>\n",
       "      <th>Year</th>\n",
       "      <th>Updated On</th>\n",
       "      <th>Latitude</th>\n",
       "      <th>Longitude</th>\n",
       "      <th>Location</th>\n",
       "    </tr>\n",
       "  </thead>\n",
       "  <tbody>\n",
       "    <tr>\n",
       "      <td>0</td>\n",
       "      <td>11034701</td>\n",
       "      <td>JA366925</td>\n",
       "      <td>01/01/2001 11:00:00 AM</td>\n",
       "      <td>016XX E 86TH PL</td>\n",
       "      <td>1153</td>\n",
       "      <td>DECEPTIVE PRACTICE</td>\n",
       "      <td>FINANCIAL IDENTITY THEFT OVER $ 300</td>\n",
       "      <td>RESIDENCE</td>\n",
       "      <td>False</td>\n",
       "      <td>False</td>\n",
       "      <td>...</td>\n",
       "      <td>8.0</td>\n",
       "      <td>45.0</td>\n",
       "      <td>11</td>\n",
       "      <td>NaN</td>\n",
       "      <td>NaN</td>\n",
       "      <td>2001</td>\n",
       "      <td>08/05/2017 03:50:08 PM</td>\n",
       "      <td>NaN</td>\n",
       "      <td>NaN</td>\n",
       "      <td>NaN</td>\n",
       "    </tr>\n",
       "    <tr>\n",
       "      <td>1</td>\n",
       "      <td>11227287</td>\n",
       "      <td>JB147188</td>\n",
       "      <td>10/08/2017 03:00:00 AM</td>\n",
       "      <td>092XX S RACINE AVE</td>\n",
       "      <td>0281</td>\n",
       "      <td>CRIM SEXUAL ASSAULT</td>\n",
       "      <td>NON-AGGRAVATED</td>\n",
       "      <td>RESIDENCE</td>\n",
       "      <td>False</td>\n",
       "      <td>False</td>\n",
       "      <td>...</td>\n",
       "      <td>21.0</td>\n",
       "      <td>73.0</td>\n",
       "      <td>02</td>\n",
       "      <td>NaN</td>\n",
       "      <td>NaN</td>\n",
       "      <td>2017</td>\n",
       "      <td>02/11/2018 03:57:41 PM</td>\n",
       "      <td>NaN</td>\n",
       "      <td>NaN</td>\n",
       "      <td>NaN</td>\n",
       "    </tr>\n",
       "    <tr>\n",
       "      <td>2</td>\n",
       "      <td>11227583</td>\n",
       "      <td>JB147595</td>\n",
       "      <td>03/28/2017 02:00:00 PM</td>\n",
       "      <td>026XX W 79TH ST</td>\n",
       "      <td>0620</td>\n",
       "      <td>BURGLARY</td>\n",
       "      <td>UNLAWFUL ENTRY</td>\n",
       "      <td>OTHER</td>\n",
       "      <td>False</td>\n",
       "      <td>False</td>\n",
       "      <td>...</td>\n",
       "      <td>18.0</td>\n",
       "      <td>70.0</td>\n",
       "      <td>05</td>\n",
       "      <td>NaN</td>\n",
       "      <td>NaN</td>\n",
       "      <td>2017</td>\n",
       "      <td>02/11/2018 03:57:41 PM</td>\n",
       "      <td>NaN</td>\n",
       "      <td>NaN</td>\n",
       "      <td>NaN</td>\n",
       "    </tr>\n",
       "    <tr>\n",
       "      <td>3</td>\n",
       "      <td>11227293</td>\n",
       "      <td>JB147230</td>\n",
       "      <td>09/09/2017 08:17:00 PM</td>\n",
       "      <td>060XX S EBERHART AVE</td>\n",
       "      <td>0810</td>\n",
       "      <td>THEFT</td>\n",
       "      <td>OVER $500</td>\n",
       "      <td>RESIDENCE</td>\n",
       "      <td>False</td>\n",
       "      <td>False</td>\n",
       "      <td>...</td>\n",
       "      <td>20.0</td>\n",
       "      <td>42.0</td>\n",
       "      <td>06</td>\n",
       "      <td>NaN</td>\n",
       "      <td>NaN</td>\n",
       "      <td>2017</td>\n",
       "      <td>02/11/2018 03:57:41 PM</td>\n",
       "      <td>NaN</td>\n",
       "      <td>NaN</td>\n",
       "      <td>NaN</td>\n",
       "    </tr>\n",
       "    <tr>\n",
       "      <td>4</td>\n",
       "      <td>11227634</td>\n",
       "      <td>JB147599</td>\n",
       "      <td>08/26/2017 10:00:00 AM</td>\n",
       "      <td>001XX W RANDOLPH ST</td>\n",
       "      <td>0281</td>\n",
       "      <td>CRIM SEXUAL ASSAULT</td>\n",
       "      <td>NON-AGGRAVATED</td>\n",
       "      <td>HOTEL/MOTEL</td>\n",
       "      <td>False</td>\n",
       "      <td>False</td>\n",
       "      <td>...</td>\n",
       "      <td>42.0</td>\n",
       "      <td>32.0</td>\n",
       "      <td>02</td>\n",
       "      <td>NaN</td>\n",
       "      <td>NaN</td>\n",
       "      <td>2017</td>\n",
       "      <td>02/11/2018 03:57:41 PM</td>\n",
       "      <td>NaN</td>\n",
       "      <td>NaN</td>\n",
       "      <td>NaN</td>\n",
       "    </tr>\n",
       "  </tbody>\n",
       "</table>\n",
       "<p>5 rows × 22 columns</p>\n",
       "</div>"
      ],
      "text/plain": [
       "         ID Case Number                    Date                 Block  IUCR  \\\n",
       "0  11034701    JA366925  01/01/2001 11:00:00 AM       016XX E 86TH PL  1153   \n",
       "1  11227287    JB147188  10/08/2017 03:00:00 AM    092XX S RACINE AVE  0281   \n",
       "2  11227583    JB147595  03/28/2017 02:00:00 PM       026XX W 79TH ST  0620   \n",
       "3  11227293    JB147230  09/09/2017 08:17:00 PM  060XX S EBERHART AVE  0810   \n",
       "4  11227634    JB147599  08/26/2017 10:00:00 AM   001XX W RANDOLPH ST  0281   \n",
       "\n",
       "          Primary Type                          Description  \\\n",
       "0   DECEPTIVE PRACTICE  FINANCIAL IDENTITY THEFT OVER $ 300   \n",
       "1  CRIM SEXUAL ASSAULT                       NON-AGGRAVATED   \n",
       "2             BURGLARY                       UNLAWFUL ENTRY   \n",
       "3                THEFT                            OVER $500   \n",
       "4  CRIM SEXUAL ASSAULT                       NON-AGGRAVATED   \n",
       "\n",
       "  Location Description  Arrest  Domestic  ...  Ward  Community Area  FBI Code  \\\n",
       "0            RESIDENCE   False     False  ...   8.0            45.0        11   \n",
       "1            RESIDENCE   False     False  ...  21.0            73.0        02   \n",
       "2                OTHER   False     False  ...  18.0            70.0        05   \n",
       "3            RESIDENCE   False     False  ...  20.0            42.0        06   \n",
       "4          HOTEL/MOTEL   False     False  ...  42.0            32.0        02   \n",
       "\n",
       "   X Coordinate Y Coordinate  Year              Updated On  Latitude  \\\n",
       "0           NaN          NaN  2001  08/05/2017 03:50:08 PM       NaN   \n",
       "1           NaN          NaN  2017  02/11/2018 03:57:41 PM       NaN   \n",
       "2           NaN          NaN  2017  02/11/2018 03:57:41 PM       NaN   \n",
       "3           NaN          NaN  2017  02/11/2018 03:57:41 PM       NaN   \n",
       "4           NaN          NaN  2017  02/11/2018 03:57:41 PM       NaN   \n",
       "\n",
       "  Longitude  Location  \n",
       "0       NaN       NaN  \n",
       "1       NaN       NaN  \n",
       "2       NaN       NaN  \n",
       "3       NaN       NaN  \n",
       "4       NaN       NaN  \n",
       "\n",
       "[5 rows x 22 columns]"
      ]
     },
     "execution_count": 91,
     "metadata": {},
     "output_type": "execute_result"
    }
   ],
   "source": [
    "# reading the csv file from the local machine \n",
    "crimes = pd.read_csv('ChicagoCrimes.csv')\n",
    "crimes.head(5)"
   ]
  },
  {
   "cell_type": "code",
   "execution_count": 92,
   "metadata": {},
   "outputs": [
    {
     "data": {
      "text/plain": [
       "Index(['ID', 'Case Number', 'Date', 'Block', 'IUCR', 'Primary Type',\n",
       "       'Description', 'Location Description', 'Arrest', 'Domestic', 'Beat',\n",
       "       'District', 'Ward', 'Community Area', 'FBI Code', 'X Coordinate',\n",
       "       'Y Coordinate', 'Year', 'Updated On', 'Latitude', 'Longitude',\n",
       "       'Location'],\n",
       "      dtype='object')"
      ]
     },
     "execution_count": 92,
     "metadata": {},
     "output_type": "execute_result"
    }
   ],
   "source": [
    "# printing the list of all columns\n",
    "crimes.columns"
   ]
  },
  {
   "cell_type": "code",
   "execution_count": 93,
   "metadata": {},
   "outputs": [],
   "source": [
    "# dropping the unwanted columns\n",
    "crimes.drop(columns = ['ID','Case Number','Block','Beat','IUCR','Ward','Community Area','Updated On'],inplace=True)"
   ]
  },
  {
   "cell_type": "code",
   "execution_count": 94,
   "metadata": {},
   "outputs": [
    {
     "name": "stdout",
     "output_type": "stream",
     "text": [
      "<class 'pandas.core.frame.DataFrame'>\n",
      "RangeIndex: 7069282 entries, 0 to 7069281\n",
      "Data columns (total 14 columns):\n",
      "Date                    object\n",
      "Primary Type            object\n",
      "Description             object\n",
      "Location Description    object\n",
      "Arrest                  bool\n",
      "Domestic                bool\n",
      "District                float64\n",
      "FBI Code                object\n",
      "X Coordinate            float64\n",
      "Y Coordinate            float64\n",
      "Year                    int64\n",
      "Latitude                float64\n",
      "Longitude               float64\n",
      "Location                object\n",
      "dtypes: bool(2), float64(5), int64(1), object(6)\n",
      "memory usage: 660.7+ MB\n"
     ]
    }
   ],
   "source": [
    "\n",
    "crimes.info()"
   ]
  },
  {
   "cell_type": "code",
   "execution_count": 95,
   "metadata": {},
   "outputs": [
    {
     "data": {
      "text/plain": [
       "(7069282, 14)"
      ]
     },
     "execution_count": 95,
     "metadata": {},
     "output_type": "execute_result"
    }
   ],
   "source": [
    "# shape represent the number of rows and number of columns  in the dataset\n",
    "crimes.shape"
   ]
  },
  {
   "cell_type": "markdown",
   "metadata": {},
   "source": [
    "## Features of the Dataset"
   ]
  },
  {
   "cell_type": "code",
   "execution_count": 96,
   "metadata": {},
   "outputs": [
    {
     "name": "stdout",
     "output_type": "stream",
     "text": [
      "Features of the Dataset are : ['Date', 'Primary Type', 'Description', 'Location Description', 'Arrest', 'Domestic', 'District', 'FBI Code', 'X Coordinate', 'Y Coordinate', 'Year', 'Latitude', 'Longitude', 'Location']\n"
     ]
    }
   ],
   "source": [
    "print('Features of the Dataset are :',list(crimes.columns))"
   ]
  },
  {
   "cell_type": "markdown",
   "metadata": {},
   "source": [
    "## Number of distinct crimes in chicago"
   ]
  },
  {
   "cell_type": "code",
   "execution_count": 97,
   "metadata": {},
   "outputs": [
    {
     "name": "stdout",
     "output_type": "stream",
     "text": [
      "Number of Distinct crimes :  35\n",
      "Distinct crimes in Chicago :  ['DECEPTIVE PRACTICE', 'CRIM SEXUAL ASSAULT', 'BURGLARY', 'THEFT', 'OFFENSE INVOLVING CHILDREN', 'CRIMINAL DAMAGE', 'OTHER OFFENSE', 'NARCOTICS', 'SEX OFFENSE', 'BATTERY', 'MOTOR VEHICLE THEFT', 'ROBBERY', 'ASSAULT', 'CRIMINAL TRESPASS', 'WEAPONS VIOLATION', 'OBSCENITY', 'NON-CRIMINAL', 'PUBLIC PEACE VIOLATION', 'LIQUOR LAW VIOLATION', 'PROSTITUTION', 'INTIMIDATION', 'ARSON', 'INTERFERENCE WITH PUBLIC OFFICER', 'GAMBLING', 'STALKING', 'KIDNAPPING', 'OTHER NARCOTIC VIOLATION', 'CONCEALED CARRY LICENSE VIOLATION', 'HOMICIDE', 'RITUALISM', 'HUMAN TRAFFICKING', 'PUBLIC INDECENCY', 'NON - CRIMINAL', 'NON-CRIMINAL (SUBJECT SPECIFIED)', 'DOMESTIC VIOLENCE']\n"
     ]
    }
   ],
   "source": [
    "# different types of crimes that we see in the dataset\n",
    "print('Number of Distinct crimes : ',crimes['Primary Type'].nunique())\n",
    "print('Distinct crimes in Chicago : ',list(crimes['Primary Type'].unique()))\n"
   ]
  },
  {
   "cell_type": "markdown",
   "metadata": {},
   "source": [
    "## Missing values in the Dataset"
   ]
  },
  {
   "cell_type": "code",
   "execution_count": 98,
   "metadata": {},
   "outputs": [
    {
     "name": "stdout",
     "output_type": "stream",
     "text": [
      "The Number of missing values in the Dataset are : 345286\n"
     ]
    }
   ],
   "source": [
    "print('The Number of missing values in the Dataset are :',crimes.isna().sum().sum())"
   ]
  },
  {
   "cell_type": "code",
   "execution_count": 99,
   "metadata": {},
   "outputs": [
    {
     "name": "stdout",
     "output_type": "stream",
     "text": [
      "The number of missing values by columns Date                        0\n",
      "Primary Type                0\n",
      "Description                 0\n",
      "Location Description     6239\n",
      "Arrest                      0\n",
      "Domestic                    0\n",
      "District                   47\n",
      "FBI Code                    0\n",
      "X Coordinate            67800\n",
      "Y Coordinate            67800\n",
      "Year                        0\n",
      "Latitude                67800\n",
      "Longitude               67800\n",
      "Location                67800\n",
      "dtype: int64\n"
     ]
    }
   ],
   "source": [
    "print('The number of missing values by columns',crimes.isnull().sum())"
   ]
  },
  {
   "cell_type": "code",
   "execution_count": 100,
   "metadata": {},
   "outputs": [
    {
     "data": {
      "text/plain": [
       "Text(0, 0.5, 'Number of Missing Values')"
      ]
     },
     "execution_count": 100,
     "metadata": {},
     "output_type": "execute_result"
    },
    {
     "data": {
      "image/png": "[encoded data removed]",
      "text/plain": [
       "<Figure size 432x288 with 1 Axes>"
      ]
     },
     "metadata": {},
     "output_type": "display_data"
    }
   ],
   "source": [
    "sns.set()\n",
    "crimes.isnull().sum().plot(kind='bar')\n",
    "plt.title('Missing values by columns')\n",
    "plt.xlabel('Columns')\n",
    "plt.ylabel('Number of Missing Values')"
   ]
  },
  {
   "cell_type": "markdown",
   "metadata": {},
   "source": [
    "Inspecting the features, we see that all the features that have a large count of missing values are features that relate to the geographical location of the crime scene. This is No Surprise as the Chicago Crime Dataset is based on first hand accounts of people involved in or around the crime. It is not necessary that such first hand reports need to contain the specific locations of the crime.\n",
    "\n",
    "We have 3,45,286 missing values in the whole dataset that are present in Location Description, Community, X Co-ordinate, Y Co-ordinate, Latitude, Longitude and Location.\n",
    "Since, these features are not direct numeric values, we can't use summary statistical functions to fill in the missing values.\n",
    "\n",
    "\n",
    "__Hence, we shall be removing these values from the dataset.__\n"
   ]
  },
  {
   "cell_type": "code",
   "execution_count": 101,
   "metadata": {},
   "outputs": [
    {
     "name": "stdout",
     "output_type": "stream",
     "text": [
      "<class 'pandas.core.frame.DataFrame'>\n",
      "Int64Index: 6997332 entries, 60332 to 7069279\n",
      "Data columns (total 14 columns):\n",
      "Date                    6997332 non-null object\n",
      "Primary Type            6997332 non-null object\n",
      "Description             6997332 non-null object\n",
      "Location Description    6997332 non-null object\n",
      "Arrest                  6997332 non-null bool\n",
      "Domestic                6997332 non-null bool\n",
      "District                6997332 non-null float64\n",
      "FBI Code                6997332 non-null object\n",
      "X Coordinate            6997332 non-null float64\n",
      "Y Coordinate            6997332 non-null float64\n",
      "Year                    6997332 non-null int64\n",
      "Latitude                6997332 non-null float64\n",
      "Longitude               6997332 non-null float64\n",
      "Location                6997332 non-null object\n",
      "dtypes: bool(2), float64(5), int64(1), object(6)\n",
      "memory usage: 707.4+ MB\n"
     ]
    }
   ],
   "source": [
    "# simpliest way to drop all the null values here as follows:\n",
    "crimes = crimes.dropna()\n",
    "crimes.info(null_counts=True)"
   ]
  },
  {
   "cell_type": "code",
   "execution_count": 102,
   "metadata": {},
   "outputs": [
    {
     "name": "stdout",
     "output_type": "stream",
     "text": [
      "98.98 percentage of the data has been retained.\n"
     ]
    }
   ],
   "source": [
    "# percentage of data retained after removal of all the null values\n",
    "print(round(6997332 / 7069282  * 100,2), \"percentage of the data has been retained.\")"
   ]
  },
  {
   "cell_type": "code",
   "execution_count": 103,
   "metadata": {},
   "outputs": [
    {
     "name": "stdout",
     "output_type": "stream",
     "text": [
      "The features containing the numerical values :  ['Arrest', 'Domestic', 'District', 'X Coordinate', 'Y Coordinate', 'Year', 'Latitude', 'Longitude']\n",
      "The categorical Data columns : ['Description', 'Date', 'FBI Code', 'Location', 'Primary Type', 'Location Description']\n"
     ]
    }
   ],
   "source": [
    "# Numerical columns in the dataset \n",
    "num = crimes._get_numeric_data().columns\n",
    "print('The features containing the numerical values : ',list(num))\n",
    "print('The categorical Data columns :',list(set(crimes.columns)-set(num)))"
   ]
  },
  {
   "cell_type": "code",
   "execution_count": 112,
   "metadata": {},
   "outputs": [
    {
     "data": {
      "text/html": [
       "<div>\n",
       "<style scoped>\n",
       "    .dataframe tbody tr th:only-of-type {\n",
       "        vertical-align: middle;\n",
       "    }\n",
       "\n",
       "    .dataframe tbody tr th {\n",
       "        vertical-align: top;\n",
       "    }\n",
       "\n",
       "    .dataframe thead th {\n",
       "        text-align: right;\n",
       "    }\n",
       "</style>\n",
       "<table border=\"1\" class=\"dataframe\">\n",
       "  <thead>\n",
       "    <tr style=\"text-align: right;\">\n",
       "      <th></th>\n",
       "      <th>Date</th>\n",
       "      <th>Primary Type</th>\n",
       "      <th>Description</th>\n",
       "      <th>Location Description</th>\n",
       "      <th>Arrest</th>\n",
       "      <th>Domestic</th>\n",
       "      <th>District</th>\n",
       "      <th>FBI Code</th>\n",
       "      <th>X Coordinate</th>\n",
       "      <th>Y Coordinate</th>\n",
       "      <th>Year</th>\n",
       "      <th>Latitude</th>\n",
       "      <th>Longitude</th>\n",
       "      <th>Location</th>\n",
       "      <th>Month</th>\n",
       "      <th>Day</th>\n",
       "      <th>Hour</th>\n",
       "      <th>Day Of Week</th>\n",
       "    </tr>\n",
       "  </thead>\n",
       "  <tbody>\n",
       "    <tr>\n",
       "      <td>60332</td>\n",
       "      <td>2019-01-03 19:20:00</td>\n",
       "      <td>PUBLIC PEACE VIOLATION</td>\n",
       "      <td>OTHER VIOLATION</td>\n",
       "      <td>AIRCRAFT</td>\n",
       "      <td>False</td>\n",
       "      <td>False</td>\n",
       "      <td>16.0</td>\n",
       "      <td>26</td>\n",
       "      <td>1100374.0</td>\n",
       "      <td>1943906.0</td>\n",
       "      <td>2019</td>\n",
       "      <td>42.002816</td>\n",
       "      <td>-87.906094</td>\n",
       "      <td>(42.002816387, -87.90609433)</td>\n",
       "      <td>1</td>\n",
       "      <td>3</td>\n",
       "      <td>19</td>\n",
       "      <td>3</td>\n",
       "    </tr>\n",
       "    <tr>\n",
       "      <td>62258</td>\n",
       "      <td>2019-03-16 17:58:00</td>\n",
       "      <td>BATTERY</td>\n",
       "      <td>SIMPLE</td>\n",
       "      <td>STREET</td>\n",
       "      <td>False</td>\n",
       "      <td>False</td>\n",
       "      <td>1.0</td>\n",
       "      <td>08B</td>\n",
       "      <td>1174723.0</td>\n",
       "      <td>1900866.0</td>\n",
       "      <td>2019</td>\n",
       "      <td>41.883369</td>\n",
       "      <td>-87.633860</td>\n",
       "      <td>(41.88336939, -87.633860272)</td>\n",
       "      <td>3</td>\n",
       "      <td>16</td>\n",
       "      <td>17</td>\n",
       "      <td>5</td>\n",
       "    </tr>\n",
       "    <tr>\n",
       "      <td>62600</td>\n",
       "      <td>2019-03-12 22:00:00</td>\n",
       "      <td>THEFT</td>\n",
       "      <td>$500 AND UNDER</td>\n",
       "      <td>RESIDENTIAL YARD (FRONT/BACK)</td>\n",
       "      <td>False</td>\n",
       "      <td>False</td>\n",
       "      <td>2.0</td>\n",
       "      <td>06</td>\n",
       "      <td>1182276.0</td>\n",
       "      <td>1879784.0</td>\n",
       "      <td>2019</td>\n",
       "      <td>41.825347</td>\n",
       "      <td>-87.606781</td>\n",
       "      <td>(41.825346902, -87.606780575)</td>\n",
       "      <td>3</td>\n",
       "      <td>12</td>\n",
       "      <td>22</td>\n",
       "      <td>1</td>\n",
       "    </tr>\n",
       "    <tr>\n",
       "      <td>62633</td>\n",
       "      <td>2019-03-14 18:42:00</td>\n",
       "      <td>BATTERY</td>\n",
       "      <td>SIMPLE</td>\n",
       "      <td>RESIDENCE</td>\n",
       "      <td>False</td>\n",
       "      <td>False</td>\n",
       "      <td>24.0</td>\n",
       "      <td>08B</td>\n",
       "      <td>1163827.0</td>\n",
       "      <td>1949311.0</td>\n",
       "      <td>2019</td>\n",
       "      <td>42.016542</td>\n",
       "      <td>-87.672499</td>\n",
       "      <td>(42.016541612, -87.672499325)</td>\n",
       "      <td>3</td>\n",
       "      <td>14</td>\n",
       "      <td>18</td>\n",
       "      <td>3</td>\n",
       "    </tr>\n",
       "    <tr>\n",
       "      <td>62634</td>\n",
       "      <td>2019-03-14 16:03:00</td>\n",
       "      <td>OTHER OFFENSE</td>\n",
       "      <td>OTHER VEHICLE OFFENSE</td>\n",
       "      <td>STREET</td>\n",
       "      <td>False</td>\n",
       "      <td>True</td>\n",
       "      <td>2.0</td>\n",
       "      <td>26</td>\n",
       "      <td>1182227.0</td>\n",
       "      <td>1879766.0</td>\n",
       "      <td>2019</td>\n",
       "      <td>41.825299</td>\n",
       "      <td>-87.606961</td>\n",
       "      <td>(41.825298645, -87.6069609)</td>\n",
       "      <td>3</td>\n",
       "      <td>14</td>\n",
       "      <td>16</td>\n",
       "      <td>3</td>\n",
       "    </tr>\n",
       "    <tr>\n",
       "      <td>...</td>\n",
       "      <td>...</td>\n",
       "      <td>...</td>\n",
       "      <td>...</td>\n",
       "      <td>...</td>\n",
       "      <td>...</td>\n",
       "      <td>...</td>\n",
       "      <td>...</td>\n",
       "      <td>...</td>\n",
       "      <td>...</td>\n",
       "      <td>...</td>\n",
       "      <td>...</td>\n",
       "      <td>...</td>\n",
       "      <td>...</td>\n",
       "      <td>...</td>\n",
       "      <td>...</td>\n",
       "      <td>...</td>\n",
       "      <td>...</td>\n",
       "      <td>...</td>\n",
       "    </tr>\n",
       "    <tr>\n",
       "      <td>7069274</td>\n",
       "      <td>2015-03-18 04:00:00</td>\n",
       "      <td>BATTERY</td>\n",
       "      <td>SIMPLE</td>\n",
       "      <td>RESIDENCE</td>\n",
       "      <td>False</td>\n",
       "      <td>False</td>\n",
       "      <td>25.0</td>\n",
       "      <td>08B</td>\n",
       "      <td>1151659.0</td>\n",
       "      <td>1921038.0</td>\n",
       "      <td>2015</td>\n",
       "      <td>41.939208</td>\n",
       "      <td>-87.718022</td>\n",
       "      <td>(41.939207846, -87.718021657)</td>\n",
       "      <td>3</td>\n",
       "      <td>18</td>\n",
       "      <td>4</td>\n",
       "      <td>2</td>\n",
       "    </tr>\n",
       "    <tr>\n",
       "      <td>7069275</td>\n",
       "      <td>2015-03-18 17:08:00</td>\n",
       "      <td>ASSAULT</td>\n",
       "      <td>SIMPLE</td>\n",
       "      <td>RESTAURANT</td>\n",
       "      <td>True</td>\n",
       "      <td>False</td>\n",
       "      <td>16.0</td>\n",
       "      <td>08A</td>\n",
       "      <td>1138222.0</td>\n",
       "      <td>1928502.0</td>\n",
       "      <td>2015</td>\n",
       "      <td>41.959944</td>\n",
       "      <td>-87.767226</td>\n",
       "      <td>(41.959943835, -87.767225719)</td>\n",
       "      <td>3</td>\n",
       "      <td>18</td>\n",
       "      <td>17</td>\n",
       "      <td>2</td>\n",
       "    </tr>\n",
       "    <tr>\n",
       "      <td>7069277</td>\n",
       "      <td>2019-05-26 17:13:00</td>\n",
       "      <td>OTHER OFFENSE</td>\n",
       "      <td>HARASSMENT BY TELEPHONE</td>\n",
       "      <td>APARTMENT</td>\n",
       "      <td>False</td>\n",
       "      <td>True</td>\n",
       "      <td>10.0</td>\n",
       "      <td>26</td>\n",
       "      <td>1152126.0</td>\n",
       "      <td>1893208.0</td>\n",
       "      <td>2019</td>\n",
       "      <td>41.862830</td>\n",
       "      <td>-87.717040</td>\n",
       "      <td>(41.862830429, -87.717040084)</td>\n",
       "      <td>5</td>\n",
       "      <td>26</td>\n",
       "      <td>17</td>\n",
       "      <td>6</td>\n",
       "    </tr>\n",
       "    <tr>\n",
       "      <td>7069278</td>\n",
       "      <td>2019-05-26 06:48:00</td>\n",
       "      <td>HOMICIDE</td>\n",
       "      <td>FIRST DEGREE MURDER</td>\n",
       "      <td>CHA PARKING LOT</td>\n",
       "      <td>True</td>\n",
       "      <td>False</td>\n",
       "      <td>12.0</td>\n",
       "      <td>01A</td>\n",
       "      <td>1167752.0</td>\n",
       "      <td>1893853.0</td>\n",
       "      <td>2019</td>\n",
       "      <td>41.864278</td>\n",
       "      <td>-87.659660</td>\n",
       "      <td>(41.864278228, -87.659660218)</td>\n",
       "      <td>5</td>\n",
       "      <td>26</td>\n",
       "      <td>6</td>\n",
       "      <td>6</td>\n",
       "    </tr>\n",
       "    <tr>\n",
       "      <td>7069279</td>\n",
       "      <td>2019-05-26 02:11:00</td>\n",
       "      <td>HOMICIDE</td>\n",
       "      <td>FIRST DEGREE MURDER</td>\n",
       "      <td>STREET</td>\n",
       "      <td>False</td>\n",
       "      <td>False</td>\n",
       "      <td>12.0</td>\n",
       "      <td>01A</td>\n",
       "      <td>1167746.0</td>\n",
       "      <td>1893853.0</td>\n",
       "      <td>2019</td>\n",
       "      <td>41.864278</td>\n",
       "      <td>-87.659682</td>\n",
       "      <td>(41.864278357, -87.659682244)</td>\n",
       "      <td>5</td>\n",
       "      <td>26</td>\n",
       "      <td>2</td>\n",
       "      <td>6</td>\n",
       "    </tr>\n",
       "  </tbody>\n",
       "</table>\n",
       "<p>6997332 rows × 18 columns</p>\n",
       "</div>"
      ],
      "text/plain": [
       "                       Date            Primary Type              Description  \\\n",
       "60332   2019-01-03 19:20:00  PUBLIC PEACE VIOLATION          OTHER VIOLATION   \n",
       "62258   2019-03-16 17:58:00                 BATTERY                   SIMPLE   \n",
       "62600   2019-03-12 22:00:00                   THEFT           $500 AND UNDER   \n",
       "62633   2019-03-14 18:42:00                 BATTERY                   SIMPLE   \n",
       "62634   2019-03-14 16:03:00           OTHER OFFENSE    OTHER VEHICLE OFFENSE   \n",
       "...                     ...                     ...                      ...   \n",
       "7069274 2015-03-18 04:00:00                 BATTERY                   SIMPLE   \n",
       "7069275 2015-03-18 17:08:00                 ASSAULT                   SIMPLE   \n",
       "7069277 2019-05-26 17:13:00           OTHER OFFENSE  HARASSMENT BY TELEPHONE   \n",
       "7069278 2019-05-26 06:48:00                HOMICIDE      FIRST DEGREE MURDER   \n",
       "7069279 2019-05-26 02:11:00                HOMICIDE      FIRST DEGREE MURDER   \n",
       "\n",
       "                  Location Description  Arrest  Domestic  District FBI Code  \\\n",
       "60332                         AIRCRAFT   False     False      16.0       26   \n",
       "62258                           STREET   False     False       1.0      08B   \n",
       "62600    RESIDENTIAL YARD (FRONT/BACK)   False     False       2.0       06   \n",
       "62633                        RESIDENCE   False     False      24.0      08B   \n",
       "62634                           STREET   False      True       2.0       26   \n",
       "...                                ...     ...       ...       ...      ...   \n",
       "7069274                      RESIDENCE   False     False      25.0      08B   \n",
       "7069275                     RESTAURANT    True     False      16.0      08A   \n",
       "7069277                      APARTMENT   False      True      10.0       26   \n",
       "7069278                CHA PARKING LOT    True     False      12.0      01A   \n",
       "7069279                         STREET   False     False      12.0      01A   \n",
       "\n",
       "         X Coordinate  Y Coordinate  Year   Latitude  Longitude  \\\n",
       "60332       1100374.0     1943906.0  2019  42.002816 -87.906094   \n",
       "62258       1174723.0     1900866.0  2019  41.883369 -87.633860   \n",
       "62600       1182276.0     1879784.0  2019  41.825347 -87.606781   \n",
       "62633       1163827.0     1949311.0  2019  42.016542 -87.672499   \n",
       "62634       1182227.0     1879766.0  2019  41.825299 -87.606961   \n",
       "...               ...           ...   ...        ...        ...   \n",
       "7069274     1151659.0     1921038.0  2015  41.939208 -87.718022   \n",
       "7069275     1138222.0     1928502.0  2015  41.959944 -87.767226   \n",
       "7069277     1152126.0     1893208.0  2019  41.862830 -87.717040   \n",
       "7069278     1167752.0     1893853.0  2019  41.864278 -87.659660   \n",
       "7069279     1167746.0     1893853.0  2019  41.864278 -87.659682   \n",
       "\n",
       "                              Location  Month  Day  Hour  Day Of Week  \n",
       "60332     (42.002816387, -87.90609433)      1    3    19            3  \n",
       "62258     (41.88336939, -87.633860272)      3   16    17            5  \n",
       "62600    (41.825346902, -87.606780575)      3   12    22            1  \n",
       "62633    (42.016541612, -87.672499325)      3   14    18            3  \n",
       "62634      (41.825298645, -87.6069609)      3   14    16            3  \n",
       "...                                ...    ...  ...   ...          ...  \n",
       "7069274  (41.939207846, -87.718021657)      3   18     4            2  \n",
       "7069275  (41.959943835, -87.767225719)      3   18    17            2  \n",
       "7069277  (41.862830429, -87.717040084)      5   26    17            6  \n",
       "7069278  (41.864278228, -87.659660218)      5   26     6            6  \n",
       "7069279  (41.864278357, -87.659682244)      5   26     2            6  \n",
       "\n",
       "[6997332 rows x 18 columns]"
      ]
     },
     "execution_count": 112,
     "metadata": {},
     "output_type": "execute_result"
    }
   ],
   "source": [
    "# converted the Date column into datetime type and extracted the Year,Month,Day,Hour,Day Of Week\n",
    "crimes.Date = pd.to_datetime(crimes.Date,format ='%m/%d/%Y %I:%M:%S %p')\n",
    "def date(data):\n",
    "    data['Year'] = data['Date'].dt.year\n",
    "    data['Month'] = data['Date'].dt.month\n",
    "    data['Day'] = data['Date'].dt.day\n",
    "    data['Hour'] = data['Date'].dt.hour\n",
    "    data['Day Of Week'] = data['Date'].dt.dayofweek\n",
    "    return data\n",
    "date(crimes)"
   ]
  },
  {
   "cell_type": "code",
   "execution_count": 113,
   "metadata": {},
   "outputs": [],
   "source": [
    "# replacing the columns of boolean containing true or false to 1 and 0\n",
    "crimes.replace({True : 1,\n",
    "                False : 0\n",
    "               },inplace = True)"
   ]
  },
  {
   "cell_type": "code",
   "execution_count": 122,
   "metadata": {},
   "outputs": [],
   "source": [
    "# since we have incomplete data in 2001.so lets filter the data which consists between 2002-2020.\n",
    "crimes = crimes[(crimes['Year']>2001)]"
   ]
  },
  {
   "cell_type": "code",
   "execution_count": 121,
   "metadata": {},
   "outputs": [],
   "source": [
    "# saving into csv file \n",
    "crimes.to_csv('cleaned_ChicagoCrimes.csv', index = True, header = 'True')\n",
    "crimes.to_pickle('cleaned_ChicagoCrimes.pkl')"
   ]
  },
  {
   "cell_type": "code",
   "execution_count": null,
   "metadata": {},
   "outputs": [],
   "source": []
  }
 ],
 "metadata": {
  "kernelspec": {
   "display_name": "Python 3",
   "language": "python",
   "name": "python3"
  },
  "language_info": {
   "codemirror_mode": {
    "name": "ipython",
    "version": 3
   },
   "file_extension": ".py",
   "mimetype": "text/x-python",
   "name": "python",
   "nbconvert_exporter": "python",
   "pygments_lexer": "ipython3",
   "version": "3.7.4"
  },
  "toc": {
   "base_numbering": 1,
   "nav_menu": {},
   "number_sections": true,
   "sideBar": true,
   "skip_h1_title": false,
   "title_cell": "Table of Contents",
   "title_sidebar": "Contents",
   "toc_cell": false,
   "toc_position": {},
   "toc_section_display": true,
   "toc_window_display": false
  }
 },
 "nbformat": 4,
 "nbformat_minor": 4
}
